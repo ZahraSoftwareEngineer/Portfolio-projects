{
 "cells": [
  {
   "cell_type": "code",
   "execution_count": 5,
   "metadata": {},
   "outputs": [],
   "source": [
    "class Node:\n",
    "    def __init__(self,data=None):\n",
    "        self.data=data\n",
    "        self.link=None\n",
    "class Linkedlist:\n",
    "    def __init__(self):\n",
    "        self.head=None\n",
    "    def printlist(self):\n",
    "        if self.head is None :\n",
    "            print(\"list is empty\")\n",
    "        else:\n",
    "            temp=self.head\n",
    "            while temp is not None :\n",
    "                print(temp.data)\n",
    "                temp=temp.link\n",
    "    def appendList(self,data):\n",
    "        newNode=Node(data)\n",
    "        if  self.head is None:\n",
    "            self.head=newNode\n",
    "        else:\n",
    "            temp=self.head\n",
    "            while temp.link is not None:\n",
    "                temp=temp.link\n",
    "            temp.link=newNode\n",
    "            \n",
    "    def addAtBe(self,data):\n",
    "        newNode = Node(data)\n",
    "        newNode.link = self.head\n",
    "        self.head=newNode\n",
    "    def removelList(self):\n",
    "        temp=self.head\n",
    "        if temp is Node:\n",
    "            print(\"List is empty\")\n",
    "        else:\n",
    "            if temp.link is None:\n",
    "                self.head=None\n",
    "            else:\n",
    "                \n",
    "                while(temp.link.link is not None):\n",
    "                    temp=temp.link\n",
    "                temp.link=None\n",
    "    def removeFirst(self):\n",
    "        temp=self.head\n",
    "        self.head=self.head.link\n",
    "        temp=None\n",
    "        \n",
    "    \n",
    "        "
   ]
  },
  {
   "cell_type": "code",
   "execution_count": 2,
   "metadata": {},
   "outputs": [],
   "source": [
    "K1= Linkedlist()"
   ]
  },
  {
   "cell_type": "code",
   "execution_count": 3,
   "metadata": {},
   "outputs": [
    {
     "name": "stdout",
     "output_type": "stream",
     "text": [
      "enter the value2\n",
      "do you continue(y/n)y\n",
      "enter the value3\n",
      "do you continue(y/n)n\n"
     ]
    }
   ],
   "source": [
    "ans='y'\n",
    "while ans == 'y':\n",
    "        n=int(input(\"enter the value\"))\n",
    "        K1.appendList(n)\n",
    "        ans=input(\"do you continue(y/n)\")"
   ]
  },
  {
   "cell_type": "markdown",
   "metadata": {},
   "source": [
    "## l1.printlist()"
   ]
  },
  {
   "cell_type": "code",
   "execution_count": 4,
   "metadata": {},
   "outputs": [
    {
     "name": "stdout",
     "output_type": "stream",
     "text": [
      "2\n",
      "3\n"
     ]
    }
   ],
   "source": [
    "K1.printlist()"
   ]
  },
  {
   "cell_type": "code",
   "execution_count": 66,
   "metadata": {},
   "outputs": [],
   "source": [
    "K1.addAtBe(555)"
   ]
  },
  {
   "cell_type": "markdown",
   "metadata": {},
   "source": [
    "K1.printlist()"
   ]
  },
  {
   "cell_type": "code",
   "execution_count": 67,
   "metadata": {},
   "outputs": [
    {
     "name": "stdout",
     "output_type": "stream",
     "text": [
      "555\n",
      "2\n",
      "3\n"
     ]
    }
   ],
   "source": [
    "K1.printlist()"
   ]
  },
  {
   "cell_type": "code",
   "execution_count": 68,
   "metadata": {},
   "outputs": [],
   "source": [
    "K1.removelList()"
   ]
  },
  {
   "cell_type": "code",
   "execution_count": 69,
   "metadata": {},
   "outputs": [
    {
     "name": "stdout",
     "output_type": "stream",
     "text": [
      "555\n",
      "2\n"
     ]
    }
   ],
   "source": [
    "K1.printlist()"
   ]
  },
  {
   "cell_type": "code",
   "execution_count": 70,
   "metadata": {},
   "outputs": [],
   "source": [
    "K1.removeFirst()"
   ]
  },
  {
   "cell_type": "code",
   "execution_count": 71,
   "metadata": {},
   "outputs": [
    {
     "name": "stdout",
     "output_type": "stream",
     "text": [
      "2\n"
     ]
    }
   ],
   "source": [
    "K1.printlist()"
   ]
  },
  {
   "cell_type": "code",
   "execution_count": null,
   "metadata": {},
   "outputs": [],
   "source": []
  }
 ],
 "metadata": {
  "kernelspec": {
   "display_name": "Python 3 (ipykernel)",
   "language": "python",
   "name": "python3"
  },
  "language_info": {
   "codemirror_mode": {
    "name": "ipython",
    "version": 3
   },
   "file_extension": ".py",
   "mimetype": "text/x-python",
   "name": "python",
   "nbconvert_exporter": "python",
   "pygments_lexer": "ipython3",
   "version": "3.9.7"
  }
 },
 "nbformat": 4,
 "nbformat_minor": 4
}
