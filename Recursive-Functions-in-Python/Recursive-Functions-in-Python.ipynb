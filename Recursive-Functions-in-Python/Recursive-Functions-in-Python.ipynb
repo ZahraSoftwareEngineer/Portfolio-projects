{
 "cells": [
  {
   "cell_type": "code",
   "execution_count": 14,
   "id": "c241caed",
   "metadata": {},
   "outputs": [
    {
     "name": "stdout",
     "output_type": "stream",
     "text": [
      "0\n",
      "1\n",
      "1\n",
      "2\n",
      "3\n",
      "5\n"
     ]
    }
   ],
   "source": [
    "#Solve a question 4\n",
    "def fibonacci(i):\n",
    "    if i == 0:\n",
    "        return 0\n",
    "    elif i == 1:\n",
    "        return 1\n",
    "    else :\n",
    "        return fibonacci(i-1) + fibonacci(i-2)\n",
    "for x in range(6):\n",
    "    \n",
    "    print(fibonacci(x))"
   ]
  },
  {
   "cell_type": "code",
   "execution_count": null,
   "id": "b70e357b",
   "metadata": {},
   "outputs": [],
   "source": []
  },
  {
   "cell_type": "code",
   "execution_count": 34,
   "id": "c2763af1",
   "metadata": {},
   "outputs": [
    {
     "name": "stdout",
     "output_type": "stream",
     "text": [
      "enter the number 5\n",
      "enter the power of number 2\n",
      "5 power 2 is 25\n"
     ]
    }
   ],
   "source": [
    "##Solve a question 3\n",
    "def power (base,exponent):\n",
    "    if exponent==0:\n",
    "        return 1\n",
    "    elif exponent >0:\n",
    "        return base * power(base,exponent -1)\n",
    "    else:\n",
    "        return 1/power(base,-exponent)\n",
    "base=int(input(\"enter the number \"))\n",
    "exponent=int(input(\"enter the power of number \"))\n",
    "result=power(base,exponent)\n",
    "print(base,\"power\",exponent, \"is\" ,result)\n"
   ]
  },
  {
   "cell_type": "code",
   "execution_count": 16,
   "id": "208a9790",
   "metadata": {},
   "outputs": [],
   "source": [
    "##Solve a question 5\n",
    "def rec_sum(n):\n",
    "    if n<=1:\n",
    "        return n\n",
    "    else:\n",
    "        return n + rec_sum(n-1)\n"
   ]
  },
  {
   "cell_type": "code",
   "execution_count": 17,
   "id": "2c6127d7",
   "metadata": {},
   "outputs": [
    {
     "name": "stdout",
     "output_type": "stream",
     "text": [
      "enter terms upto which you want add: 5\n",
      "the sum is  15\n"
     ]
    }
   ],
   "source": [
    "num=int(input(\"enter terms upto which you want add: \"))\n",
    "if num < 0:\n",
    "    \n",
    "    print(\"please Enter a positive number only !!!\")\n",
    "else:\n",
    "    print (\"the sum is \" , rec_sum(num))"
   ]
  },
  {
   "cell_type": "code",
   "execution_count": 4,
   "id": "831e67e6",
   "metadata": {},
   "outputs": [
    {
     "name": "stdout",
     "output_type": "stream",
     "text": [
      "Enter the number : 5\n",
      "5! = 120\n"
     ]
    }
   ],
   "source": [
    "##3\n",
    "number = int(input(\"Enter the number : \"))\n",
    "factorial = 1\n",
    "\n",
    "if (number < 0):\n",
    "    print(\"Cant computer factorial for Negative Number \")\n",
    "elif (number < 2):\n",
    "    print(\"{}! = {}\" .format(number , factorial))\n",
    "else:\n",
    "    for num in range (number,1,-1):\n",
    "        factorial = factorial * num\n",
    "    print(\"{}! = {}\" .format(number , factorial))"
   ]
  },
  {
   "cell_type": "code",
   "execution_count": 31,
   "id": "8eda6434",
   "metadata": {},
   "outputs": [
    {
     "name": "stdout",
     "output_type": "stream",
     "text": [
      "0! = 1\n",
      "1! = 1\n",
      "2! = 2\n",
      "3! = 6\n",
      "4! = 24\n",
      "5! = 120\n"
     ]
    }
   ],
   "source": [
    "##Solve a question 2\n"
   ]
  },
  {
   "cell_type": "code",
   "execution_count": 27,
   "id": "b7f14c02",
   "metadata": {},
   "outputs": [
    {
     "name": "stdout",
     "output_type": "stream",
     "text": [
      "10\n",
      "33\n",
      "109\n",
      "360\n"
     ]
    }
   ],
   "source": [
    "##Solve a question 1\n",
    "def fact(i):\n",
    "    if i==0:\n",
    "        return 0\n",
    "    elif i==1:\n",
    "        return 1\n",
    "    else:\n",
    "        return 3*fact(i-1)+fact(i-2)\n",
    "for x in range(3,7):\n",
    "    print(fact(x))\n"
   ]
  },
  {
   "cell_type": "code",
   "execution_count": 35,
   "id": "1b53646c",
   "metadata": {},
   "outputs": [
    {
     "name": "stdout",
     "output_type": "stream",
     "text": [
      "the value of a(n) for n = 0 : 1\n",
      "the value of a(n) for n = 1 : 3\n",
      "the value of a(n) for n = 2 : 10\n",
      "the value of a(n) for n = 3 : 33\n",
      "the value of a(n) for n = 4 : 109\n",
      "the value of a(n) for n = 5 : 360\n"
     ]
    }
   ],
   "source": [
    "def recru_function(n):\n",
    "    if (n==0 ):\n",
    "        return 1\n",
    "    if (n==1):\n",
    "        return 3\n",
    "    return 3*recru_function(n-1)+recru_function(n-2)\n",
    "n=6\n",
    "for i in range (n):\n",
    "    print( 'the value of a(n) for n =',i,':',recru_function(i))"
   ]
  },
  {
   "cell_type": "code",
   "execution_count": 37,
   "id": "a5b8daa1",
   "metadata": {},
   "outputs": [
    {
     "name": "stdout",
     "output_type": "stream",
     "text": [
      "0! = 1\n",
      "1! = 1\n",
      "2! = 2\n",
      "3! = 6\n",
      "4! = 24\n",
      "5! = 120\n"
     ]
    }
   ],
   "source": [
    "##solve a question 2\n",
    "def factorial(n):\n",
    "    if n==0 or n==1:\n",
    "        return 1\n",
    "    return n*factorial(n-1)\n",
    "for i in range (0,6):\n",
    "    print(f\"{i}! = {factorial (i)}\")\n",
    "        "
   ]
  },
  {
   "cell_type": "code",
   "execution_count": null,
   "id": "f7323946",
   "metadata": {},
   "outputs": [],
   "source": []
  }
 ],
 "metadata": {
  "kernelspec": {
   "display_name": "Python 3 (ipykernel)",
   "language": "python",
   "name": "python3"
  },
  "language_info": {
   "codemirror_mode": {
    "name": "ipython",
    "version": 3
   },
   "file_extension": ".py",
   "mimetype": "text/x-python",
   "name": "python",
   "nbconvert_exporter": "python",
   "pygments_lexer": "ipython3",
   "version": "3.9.7"
  }
 },
 "nbformat": 4,
 "nbformat_minor": 5
}
